{
  "nbformat": 4,
  "nbformat_minor": 0,
  "metadata": {
    "colab": {
      "provenance": [],
      "authorship_tag": "ABX9TyPto0Lo/fgA2M4uasahapyF",
      "include_colab_link": true
    },
    "kernelspec": {
      "name": "python3",
      "display_name": "Python 3"
    },
    "language_info": {
      "name": "python"
    }
  },
  "cells": [
    {
      "cell_type": "markdown",
      "metadata": {
        "id": "view-in-github",
        "colab_type": "text"
      },
      "source": [
        "<a href=\"https://colab.research.google.com/github/Hanysabeh/YAS1/blob/main/Untitled1.ipynb\" target=\"_parent\"><img src=\"https://colab.research.google.com/assets/colab-badge.svg\" alt=\"Open In Colab\"/></a>"
      ]
    },
    {
      "cell_type": "code",
      "execution_count": 8,
      "metadata": {
        "id": "KaYTlpGSjUB8",
        "colab": {
          "base_uri": "https://localhost:8080/"
        },
        "outputId": "6e36484d-aa88-45ba-c7da-0f7749bd12c3"
      },
      "outputs": [
        {
          "output_type": "stream",
          "name": "stdout",
          "text": [
            "/bin/bash: line 1: nvidia-smi: command not found\n"
          ]
        }
      ],
      "source": [
        "!nvidia-smi"
      ]
    },
    {
      "cell_type": "code",
      "source": [
        "!pip install ouster-sdk\n",
        "!pip install ouster-sdk['examples']\n",
        "!ouster-cli source C:\\Users\\YAS_SW\\Desktop\\Hany_Sabeh\\YAS\\a\\ws1\\datasource\\data\\OS-1-128-4096x5.pcap viz -m C:\\Users\\YAS_SW\\Desktop\\Hany_Sabeh\\YAS\\a\\ws1\\datasource\\data\\OS-1-128-4096x5.json"
      ],
      "metadata": {
        "colab": {
          "base_uri": "https://localhost:8080/"
        },
        "id": "4wlRoprSsCRx",
        "outputId": "da414279-f268-48fc-8bf6-6044e032e0bc"
      },
      "execution_count": 12,
      "outputs": [
        {
          "output_type": "stream",
          "name": "stdout",
          "text": [
            "Collecting ouster-sdk\n",
            "  Downloading ouster_sdk-0.10.0-cp310-cp310-manylinux_2_17_x86_64.manylinux2014_x86_64.whl (4.5 MB)\n",
            "\u001b[2K     \u001b[90m━━━━━━━━━━━━━━━━━━━━━━━━━━━━━━━━━━━━━━━━\u001b[0m \u001b[32m4.5/4.5 MB\u001b[0m \u001b[31m15.3 MB/s\u001b[0m eta \u001b[36m0:00:00\u001b[0m\n",
            "\u001b[?25hRequirement already satisfied: psutil<6,>=5.9.5 in /usr/local/lib/python3.10/dist-packages (from ouster-sdk) (5.9.5)\n",
            "Collecting zeroconf==0.58.2 (from ouster-sdk)\n",
            "  Downloading zeroconf-0.58.2-cp310-cp310-manylinux_2_31_x86_64.whl (2.4 MB)\n",
            "\u001b[2K     \u001b[90m━━━━━━━━━━━━━━━━━━━━━━━━━━━━━━━━━━━━━━━━\u001b[0m \u001b[32m2.4/2.4 MB\u001b[0m \u001b[31m56.5 MB/s\u001b[0m eta \u001b[36m0:00:00\u001b[0m\n",
            "\u001b[?25hRequirement already satisfied: click<9,>=8.1.3 in /usr/local/lib/python3.10/dist-packages (from ouster-sdk) (8.1.7)\n",
            "Collecting python-magic==0.4.27 (from ouster-sdk)\n",
            "  Downloading python_magic-0.4.27-py2.py3-none-any.whl (13 kB)\n",
            "Collecting importlib-metadata==6.6.0 (from ouster-sdk)\n",
            "  Downloading importlib_metadata-6.6.0-py3-none-any.whl (22 kB)\n",
            "Requirement already satisfied: prettytable>=2.1.0 in /usr/local/lib/python3.10/dist-packages (from ouster-sdk) (3.10.0)\n",
            "Requirement already satisfied: requests<3,>=2.0 in /usr/local/lib/python3.10/dist-packages (from ouster-sdk) (2.31.0)\n",
            "Requirement already satisfied: more-itertools>=8.6 in /usr/local/lib/python3.10/dist-packages (from ouster-sdk) (10.1.0)\n",
            "Requirement already satisfied: numpy!=1.19.4,<2,>=1.19 in /usr/local/lib/python3.10/dist-packages (from ouster-sdk) (1.25.2)\n",
            "Requirement already satisfied: typing-extensions>=3.7.4.3 in /usr/local/lib/python3.10/dist-packages (from ouster-sdk) (4.10.0)\n",
            "Requirement already satisfied: Pillow>=9.2 in /usr/local/lib/python3.10/dist-packages (from ouster-sdk) (9.4.0)\n",
            "Requirement already satisfied: packaging in /usr/local/lib/python3.10/dist-packages (from ouster-sdk) (23.2)\n",
            "Requirement already satisfied: scipy<2,>=1.7 in /usr/local/lib/python3.10/dist-packages (from ouster-sdk) (1.11.4)\n",
            "Collecting ouster-mapping>=0.1.0.dev3 (from ouster-sdk)\n",
            "  Downloading ouster_mapping-0.1.1-py3-none-any.whl (14 kB)\n",
            "Requirement already satisfied: zipp>=0.5 in /usr/local/lib/python3.10/dist-packages (from importlib-metadata==6.6.0->ouster-sdk) (3.17.0)\n",
            "Requirement already satisfied: async-timeout>=3.0.0 in /usr/local/lib/python3.10/dist-packages (from zeroconf==0.58.2->ouster-sdk) (4.0.3)\n",
            "Collecting ifaddr>=0.1.7 (from zeroconf==0.58.2->ouster-sdk)\n",
            "  Downloading ifaddr-0.2.0-py3-none-any.whl (12 kB)\n",
            "Collecting kiss-icp<1,>=0.2.10 (from ouster-mapping>=0.1.0.dev3->ouster-sdk)\n",
            "  Downloading kiss_icp-0.4.0-cp310-cp310-manylinux_2_17_x86_64.manylinux2014_x86_64.whl (409 kB)\n",
            "\u001b[2K     \u001b[90m━━━━━━━━━━━━━━━━━━━━━━━━━━━━━━━━━━━━━━━━\u001b[0m \u001b[32m409.2/409.2 kB\u001b[0m \u001b[31m34.5 MB/s\u001b[0m eta \u001b[36m0:00:00\u001b[0m\n",
            "\u001b[?25hCollecting laspy<3,>=2.5.0 (from ouster-mapping>=0.1.0.dev3->ouster-sdk)\n",
            "  Downloading laspy-2.5.3.tar.gz (1.6 MB)\n",
            "\u001b[2K     \u001b[90m━━━━━━━━━━━━━━━━━━━━━━━━━━━━━━━━━━━━━━━━\u001b[0m \u001b[32m1.6/1.6 MB\u001b[0m \u001b[31m39.7 MB/s\u001b[0m eta \u001b[36m0:00:00\u001b[0m\n",
            "\u001b[?25h  Installing build dependencies ... \u001b[?25l\u001b[?25hdone\n",
            "  Getting requirements to build wheel ... \u001b[?25l\u001b[?25hdone\n",
            "  Preparing metadata (pyproject.toml) ... \u001b[?25l\u001b[?25hdone\n",
            "Requirement already satisfied: wcwidth in /usr/local/lib/python3.10/dist-packages (from prettytable>=2.1.0->ouster-sdk) (0.2.13)\n",
            "Requirement already satisfied: charset-normalizer<4,>=2 in /usr/local/lib/python3.10/dist-packages (from requests<3,>=2.0->ouster-sdk) (3.3.2)\n",
            "Requirement already satisfied: idna<4,>=2.5 in /usr/local/lib/python3.10/dist-packages (from requests<3,>=2.0->ouster-sdk) (3.6)\n",
            "Requirement already satisfied: urllib3<3,>=1.21.1 in /usr/local/lib/python3.10/dist-packages (from requests<3,>=2.0->ouster-sdk) (2.0.7)\n",
            "Requirement already satisfied: certifi>=2017.4.17 in /usr/local/lib/python3.10/dist-packages (from requests<3,>=2.0->ouster-sdk) (2024.2.2)\n",
            "Requirement already satisfied: natsort in /usr/local/lib/python3.10/dist-packages (from kiss-icp<1,>=0.2.10->ouster-mapping>=0.1.0.dev3->ouster-sdk) (8.4.0)\n",
            "Collecting plyfile (from kiss-icp<1,>=0.2.10->ouster-mapping>=0.1.0.dev3->ouster-sdk)\n",
            "  Downloading plyfile-1.0.3-py3-none-any.whl (23 kB)\n",
            "Requirement already satisfied: pydantic>=2 in /usr/local/lib/python3.10/dist-packages (from kiss-icp<1,>=0.2.10->ouster-mapping>=0.1.0.dev3->ouster-sdk) (2.6.3)\n",
            "Collecting pydantic-settings (from kiss-icp<1,>=0.2.10->ouster-mapping>=0.1.0.dev3->ouster-sdk)\n",
            "  Downloading pydantic_settings-2.2.1-py3-none-any.whl (13 kB)\n",
            "Collecting pyquaternion (from kiss-icp<1,>=0.2.10->ouster-mapping>=0.1.0.dev3->ouster-sdk)\n",
            "  Downloading pyquaternion-0.9.9-py3-none-any.whl (14 kB)\n",
            "Requirement already satisfied: rich in /usr/local/lib/python3.10/dist-packages (from kiss-icp<1,>=0.2.10->ouster-mapping>=0.1.0.dev3->ouster-sdk) (13.7.0)\n",
            "Requirement already satisfied: tqdm in /usr/local/lib/python3.10/dist-packages (from kiss-icp<1,>=0.2.10->ouster-mapping>=0.1.0.dev3->ouster-sdk) (4.66.2)\n",
            "Requirement already satisfied: typer[all]>=0.6.0 in /usr/local/lib/python3.10/dist-packages (from kiss-icp<1,>=0.2.10->ouster-mapping>=0.1.0.dev3->ouster-sdk) (0.9.0)\n",
            "Requirement already satisfied: annotated-types>=0.4.0 in /usr/local/lib/python3.10/dist-packages (from pydantic>=2->kiss-icp<1,>=0.2.10->ouster-mapping>=0.1.0.dev3->ouster-sdk) (0.6.0)\n",
            "Requirement already satisfied: pydantic-core==2.16.3 in /usr/local/lib/python3.10/dist-packages (from pydantic>=2->kiss-icp<1,>=0.2.10->ouster-mapping>=0.1.0.dev3->ouster-sdk) (2.16.3)\n",
            "Collecting colorama<0.5.0,>=0.4.3 (from typer[all]>=0.6.0->kiss-icp<1,>=0.2.10->ouster-mapping>=0.1.0.dev3->ouster-sdk)\n",
            "  Downloading colorama-0.4.6-py2.py3-none-any.whl (25 kB)\n",
            "Collecting shellingham<2.0.0,>=1.3.0 (from typer[all]>=0.6.0->kiss-icp<1,>=0.2.10->ouster-mapping>=0.1.0.dev3->ouster-sdk)\n",
            "  Downloading shellingham-1.5.4-py2.py3-none-any.whl (9.8 kB)\n",
            "Requirement already satisfied: markdown-it-py>=2.2.0 in /usr/local/lib/python3.10/dist-packages (from rich->kiss-icp<1,>=0.2.10->ouster-mapping>=0.1.0.dev3->ouster-sdk) (3.0.0)\n",
            "Requirement already satisfied: pygments<3.0.0,>=2.13.0 in /usr/local/lib/python3.10/dist-packages (from rich->kiss-icp<1,>=0.2.10->ouster-mapping>=0.1.0.dev3->ouster-sdk) (2.16.1)\n",
            "Collecting python-dotenv>=0.21.0 (from pydantic-settings->kiss-icp<1,>=0.2.10->ouster-mapping>=0.1.0.dev3->ouster-sdk)\n",
            "  Downloading python_dotenv-1.0.1-py3-none-any.whl (19 kB)\n",
            "Requirement already satisfied: mdurl~=0.1 in /usr/local/lib/python3.10/dist-packages (from markdown-it-py>=2.2.0->rich->kiss-icp<1,>=0.2.10->ouster-mapping>=0.1.0.dev3->ouster-sdk) (0.1.2)\n",
            "Building wheels for collected packages: laspy\n",
            "  Building wheel for laspy (pyproject.toml) ... \u001b[?25l\u001b[?25hdone\n",
            "  Created wheel for laspy: filename=laspy-2.5.3-py3-none-any.whl size=84502 sha256=fb716ec74caee91546657cccacd1f84948f7261a51cfd9cb944cf832a449721e\n",
            "  Stored in directory: /root/.cache/pip/wheels/b8/d3/3c/46a6d5ee3daddc13f662b688640db57b53147cb4add4205511\n",
            "Successfully built laspy\n",
            "Installing collected packages: ifaddr, zeroconf, shellingham, python-magic, python-dotenv, pyquaternion, plyfile, laspy, importlib-metadata, colorama, pydantic-settings, kiss-icp, ouster-mapping, ouster-sdk\n",
            "  Attempting uninstall: importlib-metadata\n",
            "    Found existing installation: importlib-metadata 7.0.1\n",
            "    Uninstalling importlib-metadata-7.0.1:\n",
            "      Successfully uninstalled importlib-metadata-7.0.1\n",
            "Successfully installed colorama-0.4.6 ifaddr-0.2.0 importlib-metadata-6.6.0 kiss-icp-0.4.0 laspy-2.5.3 ouster-mapping-0.1.1 ouster-sdk-0.10.0 plyfile-1.0.3 pydantic-settings-2.2.1 pyquaternion-0.9.9 python-dotenv-1.0.1 python-magic-0.4.27 shellingham-1.5.4 zeroconf-0.58.2\n",
            "Requirement already satisfied: ouster-sdk[examples] in /usr/local/lib/python3.10/dist-packages (0.10.0)\n",
            "Requirement already satisfied: psutil<6,>=5.9.5 in /usr/local/lib/python3.10/dist-packages (from ouster-sdk[examples]) (5.9.5)\n",
            "Requirement already satisfied: zeroconf==0.58.2 in /usr/local/lib/python3.10/dist-packages (from ouster-sdk[examples]) (0.58.2)\n",
            "Requirement already satisfied: click<9,>=8.1.3 in /usr/local/lib/python3.10/dist-packages (from ouster-sdk[examples]) (8.1.7)\n",
            "Requirement already satisfied: python-magic==0.4.27 in /usr/local/lib/python3.10/dist-packages (from ouster-sdk[examples]) (0.4.27)\n",
            "Requirement already satisfied: importlib-metadata==6.6.0 in /usr/local/lib/python3.10/dist-packages (from ouster-sdk[examples]) (6.6.0)\n",
            "Requirement already satisfied: prettytable>=2.1.0 in /usr/local/lib/python3.10/dist-packages (from ouster-sdk[examples]) (3.10.0)\n",
            "Requirement already satisfied: requests<3,>=2.0 in /usr/local/lib/python3.10/dist-packages (from ouster-sdk[examples]) (2.31.0)\n",
            "Requirement already satisfied: more-itertools>=8.6 in /usr/local/lib/python3.10/dist-packages (from ouster-sdk[examples]) (10.1.0)\n",
            "Requirement already satisfied: numpy!=1.19.4,<2,>=1.19 in /usr/local/lib/python3.10/dist-packages (from ouster-sdk[examples]) (1.25.2)\n",
            "Requirement already satisfied: typing-extensions>=3.7.4.3 in /usr/local/lib/python3.10/dist-packages (from ouster-sdk[examples]) (4.10.0)\n",
            "Requirement already satisfied: Pillow>=9.2 in /usr/local/lib/python3.10/dist-packages (from ouster-sdk[examples]) (9.4.0)\n",
            "Requirement already satisfied: packaging in /usr/local/lib/python3.10/dist-packages (from ouster-sdk[examples]) (23.2)\n",
            "Requirement already satisfied: scipy<2,>=1.7 in /usr/local/lib/python3.10/dist-packages (from ouster-sdk[examples]) (1.11.4)\n",
            "Requirement already satisfied: ouster-mapping>=0.1.0.dev3 in /usr/local/lib/python3.10/dist-packages (from ouster-sdk[examples]) (0.1.1)\n",
            "Requirement already satisfied: matplotlib in /usr/local/lib/python3.10/dist-packages (from ouster-sdk[examples]) (3.7.1)\n",
            "Requirement already satisfied: opencv-python in /usr/local/lib/python3.10/dist-packages (from ouster-sdk[examples]) (4.8.0.76)\n",
            "Requirement already satisfied: laspy in /usr/local/lib/python3.10/dist-packages (from ouster-sdk[examples]) (2.5.3)\n",
            "Requirement already satisfied: zipp>=0.5 in /usr/local/lib/python3.10/dist-packages (from importlib-metadata==6.6.0->ouster-sdk[examples]) (3.17.0)\n",
            "Requirement already satisfied: async-timeout>=3.0.0 in /usr/local/lib/python3.10/dist-packages (from zeroconf==0.58.2->ouster-sdk[examples]) (4.0.3)\n",
            "Requirement already satisfied: ifaddr>=0.1.7 in /usr/local/lib/python3.10/dist-packages (from zeroconf==0.58.2->ouster-sdk[examples]) (0.2.0)\n",
            "Requirement already satisfied: kiss-icp<1,>=0.2.10 in /usr/local/lib/python3.10/dist-packages (from ouster-mapping>=0.1.0.dev3->ouster-sdk[examples]) (0.4.0)\n",
            "Requirement already satisfied: wcwidth in /usr/local/lib/python3.10/dist-packages (from prettytable>=2.1.0->ouster-sdk[examples]) (0.2.13)\n",
            "Requirement already satisfied: charset-normalizer<4,>=2 in /usr/local/lib/python3.10/dist-packages (from requests<3,>=2.0->ouster-sdk[examples]) (3.3.2)\n",
            "Requirement already satisfied: idna<4,>=2.5 in /usr/local/lib/python3.10/dist-packages (from requests<3,>=2.0->ouster-sdk[examples]) (3.6)\n",
            "Requirement already satisfied: urllib3<3,>=1.21.1 in /usr/local/lib/python3.10/dist-packages (from requests<3,>=2.0->ouster-sdk[examples]) (2.0.7)\n",
            "Requirement already satisfied: certifi>=2017.4.17 in /usr/local/lib/python3.10/dist-packages (from requests<3,>=2.0->ouster-sdk[examples]) (2024.2.2)\n",
            "Requirement already satisfied: contourpy>=1.0.1 in /usr/local/lib/python3.10/dist-packages (from matplotlib->ouster-sdk[examples]) (1.2.0)\n",
            "Requirement already satisfied: cycler>=0.10 in /usr/local/lib/python3.10/dist-packages (from matplotlib->ouster-sdk[examples]) (0.12.1)\n",
            "Requirement already satisfied: fonttools>=4.22.0 in /usr/local/lib/python3.10/dist-packages (from matplotlib->ouster-sdk[examples]) (4.49.0)\n",
            "Requirement already satisfied: kiwisolver>=1.0.1 in /usr/local/lib/python3.10/dist-packages (from matplotlib->ouster-sdk[examples]) (1.4.5)\n",
            "Requirement already satisfied: pyparsing>=2.3.1 in /usr/local/lib/python3.10/dist-packages (from matplotlib->ouster-sdk[examples]) (3.1.1)\n",
            "Requirement already satisfied: python-dateutil>=2.7 in /usr/local/lib/python3.10/dist-packages (from matplotlib->ouster-sdk[examples]) (2.8.2)\n",
            "Requirement already satisfied: natsort in /usr/local/lib/python3.10/dist-packages (from kiss-icp<1,>=0.2.10->ouster-mapping>=0.1.0.dev3->ouster-sdk[examples]) (8.4.0)\n",
            "Requirement already satisfied: plyfile in /usr/local/lib/python3.10/dist-packages (from kiss-icp<1,>=0.2.10->ouster-mapping>=0.1.0.dev3->ouster-sdk[examples]) (1.0.3)\n",
            "Requirement already satisfied: pydantic>=2 in /usr/local/lib/python3.10/dist-packages (from kiss-icp<1,>=0.2.10->ouster-mapping>=0.1.0.dev3->ouster-sdk[examples]) (2.6.3)\n",
            "Requirement already satisfied: pydantic-settings in /usr/local/lib/python3.10/dist-packages (from kiss-icp<1,>=0.2.10->ouster-mapping>=0.1.0.dev3->ouster-sdk[examples]) (2.2.1)\n",
            "Requirement already satisfied: pyquaternion in /usr/local/lib/python3.10/dist-packages (from kiss-icp<1,>=0.2.10->ouster-mapping>=0.1.0.dev3->ouster-sdk[examples]) (0.9.9)\n",
            "Requirement already satisfied: rich in /usr/local/lib/python3.10/dist-packages (from kiss-icp<1,>=0.2.10->ouster-mapping>=0.1.0.dev3->ouster-sdk[examples]) (13.7.0)\n",
            "Requirement already satisfied: tqdm in /usr/local/lib/python3.10/dist-packages (from kiss-icp<1,>=0.2.10->ouster-mapping>=0.1.0.dev3->ouster-sdk[examples]) (4.66.2)\n",
            "Requirement already satisfied: typer[all]>=0.6.0 in /usr/local/lib/python3.10/dist-packages (from kiss-icp<1,>=0.2.10->ouster-mapping>=0.1.0.dev3->ouster-sdk[examples]) (0.9.0)\n",
            "Requirement already satisfied: six>=1.5 in /usr/local/lib/python3.10/dist-packages (from python-dateutil>=2.7->matplotlib->ouster-sdk[examples]) (1.16.0)\n",
            "Requirement already satisfied: annotated-types>=0.4.0 in /usr/local/lib/python3.10/dist-packages (from pydantic>=2->kiss-icp<1,>=0.2.10->ouster-mapping>=0.1.0.dev3->ouster-sdk[examples]) (0.6.0)\n",
            "Requirement already satisfied: pydantic-core==2.16.3 in /usr/local/lib/python3.10/dist-packages (from pydantic>=2->kiss-icp<1,>=0.2.10->ouster-mapping>=0.1.0.dev3->ouster-sdk[examples]) (2.16.3)\n",
            "Requirement already satisfied: colorama<0.5.0,>=0.4.3 in /usr/local/lib/python3.10/dist-packages (from typer[all]>=0.6.0->kiss-icp<1,>=0.2.10->ouster-mapping>=0.1.0.dev3->ouster-sdk[examples]) (0.4.6)\n",
            "Requirement already satisfied: shellingham<2.0.0,>=1.3.0 in /usr/local/lib/python3.10/dist-packages (from typer[all]>=0.6.0->kiss-icp<1,>=0.2.10->ouster-mapping>=0.1.0.dev3->ouster-sdk[examples]) (1.5.4)\n",
            "Requirement already satisfied: markdown-it-py>=2.2.0 in /usr/local/lib/python3.10/dist-packages (from rich->kiss-icp<1,>=0.2.10->ouster-mapping>=0.1.0.dev3->ouster-sdk[examples]) (3.0.0)\n",
            "Requirement already satisfied: pygments<3.0.0,>=2.13.0 in /usr/local/lib/python3.10/dist-packages (from rich->kiss-icp<1,>=0.2.10->ouster-mapping>=0.1.0.dev3->ouster-sdk[examples]) (2.16.1)\n",
            "Requirement already satisfied: python-dotenv>=0.21.0 in /usr/local/lib/python3.10/dist-packages (from pydantic-settings->kiss-icp<1,>=0.2.10->ouster-mapping>=0.1.0.dev3->ouster-sdk[examples]) (1.0.1)\n",
            "Requirement already satisfied: mdurl~=0.1 in /usr/local/lib/python3.10/dist-packages (from markdown-it-py>=2.2.0->rich->kiss-icp<1,>=0.2.10->ouster-mapping>=0.1.0.dev3->ouster-sdk[examples]) (0.1.2)\n",
            "Usage: ouster-cli source [OPTIONS] SOURCE COMMAND [ARGS]...\n",
            "Error: Source type expected to be a sensor hostname, ip address, or a(n) .osf or .pcap file. For a sensor source, please check that you can ping the sensor hostname/ip address. For a file source, please check that the file path you have provided exists.\n"
          ]
        }
      ]
    },
    {
      "cell_type": "code",
      "source": [
        "!watch -n 1 nvidia-smi"
      ],
      "metadata": {
        "colab": {
          "base_uri": "https://localhost:8080/"
        },
        "id": "qv2R8MJ3i0Ix",
        "outputId": "a4e77419-5553-4792-8f29-e09fa33f8e00"
      },
      "execution_count": 7,
      "outputs": [
        {
          "output_type": "stream",
          "name": "stdout",
          "text": [
            "\u001b[?1l\u001b>"
          ]
        }
      ]
    },
    {
      "cell_type": "code",
      "source": [
        "import os\n",
        "HOME = os.getcwd()\n",
        "print(HOME)"
      ],
      "metadata": {
        "colab": {
          "base_uri": "https://localhost:8080/"
        },
        "id": "7C0wKyGtkhm2",
        "outputId": "36e30020-dd0d-4726-8b11-e0e424e44ffd"
      },
      "execution_count": 2,
      "outputs": [
        {
          "output_type": "stream",
          "name": "stdout",
          "text": [
            "/content\n"
          ]
        }
      ]
    },
    {
      "cell_type": "code",
      "source": [
        "!git clone https://github.com/SkalskiP/yolov9.git\n",
        "%cd yolov9\n",
        "!pip install -r requirements.txt -q"
      ],
      "metadata": {
        "colab": {
          "base_uri": "https://localhost:8080/"
        },
        "id": "4Rjg1ZVikofA",
        "outputId": "3c0eb32e-dad4-4172-8338-6e2c6f5e5795"
      },
      "execution_count": 4,
      "outputs": [
        {
          "output_type": "stream",
          "name": "stdout",
          "text": [
            "Cloning into 'yolov9'...\n",
            "remote: Enumerating objects: 147, done.\u001b[K\n",
            "remote: Total 147 (delta 0), reused 0 (delta 0), pack-reused 147\u001b[K\n",
            "Receiving objects: 100% (147/147), 607.53 KiB | 5.19 MiB/s, done.\n",
            "Resolving deltas: 100% (58/58), done.\n",
            "/content/yolov9\n",
            "\u001b[2K     \u001b[90m━━━━━━━━━━━━━━━━━━━━━━━━━━━━━━━━━━━━━━━━\u001b[0m \u001b[32m195.4/195.4 kB\u001b[0m \u001b[31m2.0 MB/s\u001b[0m eta \u001b[36m0:00:00\u001b[0m\n",
            "\u001b[2K     \u001b[90m━━━━━━━━━━━━━━━━━━━━━━━━━━━━━━━━━━━━━━━━\u001b[0m \u001b[32m62.7/62.7 kB\u001b[0m \u001b[31m6.2 MB/s\u001b[0m eta \u001b[36m0:00:00\u001b[0m\n",
            "\u001b[2K     \u001b[90m━━━━━━━━━━━━━━━━━━━━━━━━━━━━━━━━━━━━━━━━\u001b[0m \u001b[32m1.6/1.6 MB\u001b[0m \u001b[31m15.0 MB/s\u001b[0m eta \u001b[36m0:00:00\u001b[0m\n",
            "\u001b[?25h"
          ]
        }
      ]
    }
  ]
}